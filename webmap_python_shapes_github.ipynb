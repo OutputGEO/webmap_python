{
  "nbformat": 4,
  "nbformat_minor": 0,
  "metadata": {
    "colab": {
      "provenance": [],
      "authorship_tag": "ABX9TyPJZgWUxxq+r5ldz+LuSfpR",
      "include_colab_link": true
    },
    "kernelspec": {
      "name": "python3",
      "display_name": "Python 3"
    },
    "language_info": {
      "name": "python"
    }
  },
  "cells": [
    {
      "cell_type": "markdown",
      "metadata": {
        "id": "view-in-github",
        "colab_type": "text"
      },
      "source": [
        "<a href=\"https://colab.research.google.com/github/OutputGEO/webmap_python/blob/main/webmap_python_shapes_github.ipynb\" target=\"_parent\"><img src=\"https://colab.research.google.com/assets/colab-badge.svg\" alt=\"Open In Colab\"/></a>"
      ]
    },
    {
      "cell_type": "markdown",
      "source": [
        "\n",
        "```\n",
        "# modelo simplificado de código"
      ],
      "metadata": {
        "id": "4nxSIo55Z1qs"
      }
    },
    {
      "cell_type": "code",
      "source": [
        "# Instalando as bibliotecas necessárias\n",
        "# Instalando as bibliotecas necessárias\n",
        "!pip install geopandas\n",
        "!pip install folium\n",
        "\n",
        "import geopandas as gpd\n",
        "import folium\n",
        "from folium import plugins\n",
        "\n",
        "# URL do shapefile no GitHub\n",
        "url_shapefile = 'https://github.com/OutputGEO/dadosespaciais/raw/main/UDR_SELECAO_REV.shp'\n",
        "\n",
        "# Carregar o shapefile utilizando geopandas\n",
        "gdf = gpd.read_file(url_shapefile)\n",
        "\n",
        "# Calcular os limites para definir o zoom inicial que exiba a extensão do Brasil\n",
        "brasil_bounds = gdf.total_bounds\n",
        "\n",
        "# Criar um mapa base com folium\n",
        "m = folium.Map(location=[brasil_bounds[1], brasil_bounds[0]], zoom_start=4)  # Zoom inicial ajustado para exibir a extensão do Brasil\n",
        "\n",
        "# Adicionar a camada de manchas de calor ao mapa\n",
        "heat_data = [[point.xy[1][0], point.xy[0][0]] for point in gdf['geometry'].centroid]\n",
        "plugins.HeatMap(heat_data).add_to(m)\n",
        "\n",
        "# Adicionar a camada do shapefile ao mapa com estilo de círculos pretos pequenos\n",
        "for idx, row in gdf.iterrows():\n",
        "    folium.CircleMarker(location=[row['geometry'].y, row['geometry'].x], radius=3, color='black', fill=True, fill_color='black').add_to(m)\n",
        "\n",
        "# Exibir o mapa\n",
        "m\n",
        "\n"
      ],
      "metadata": {
        "id": "SsBHc3t7U-UE"
      },
      "execution_count": null,
      "outputs": []
    }
  ]
}